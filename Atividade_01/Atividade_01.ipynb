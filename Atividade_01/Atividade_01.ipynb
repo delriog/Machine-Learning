{
 "cells": [
  {
   "cell_type": "code",
   "execution_count": 2,
   "id": "216a634b-323a-469d-8003-9890b42122b2",
   "metadata": {},
   "outputs": [],
   "source": [
    "import numpy as np\n",
    "import pandas as pd\n",
    "import matplotlib.pyplot as plt\n",
    "import seaborn as sns\n",
    "\n",
    "%matplotlib inline"
   ]
  },
  {
   "cell_type": "code",
   "execution_count": 3,
   "id": "849aba83-25fe-4922-9acd-d7f922ef560f",
   "metadata": {},
   "outputs": [
    {
     "data": {
      "text/html": [
       "<div>\n",
       "<style scoped>\n",
       "    .dataframe tbody tr th:only-of-type {\n",
       "        vertical-align: middle;\n",
       "    }\n",
       "\n",
       "    .dataframe tbody tr th {\n",
       "        vertical-align: top;\n",
       "    }\n",
       "\n",
       "    .dataframe thead th {\n",
       "        text-align: right;\n",
       "    }\n",
       "</style>\n",
       "<table border=\"1\" class=\"dataframe\">\n",
       "  <thead>\n",
       "    <tr style=\"text-align: right;\">\n",
       "      <th></th>\n",
       "      <th>sepal length (cm)</th>\n",
       "      <th>sepal width (cm)</th>\n",
       "      <th>petal length (cm)</th>\n",
       "      <th>petal width (cm)</th>\n",
       "      <th>especie</th>\n",
       "    </tr>\n",
       "  </thead>\n",
       "  <tbody>\n",
       "    <tr>\n",
       "      <th>0</th>\n",
       "      <td>7.0</td>\n",
       "      <td>3.2</td>\n",
       "      <td>4.7</td>\n",
       "      <td>1.4</td>\n",
       "      <td>versicolor</td>\n",
       "    </tr>\n",
       "    <tr>\n",
       "      <th>1</th>\n",
       "      <td>6.4</td>\n",
       "      <td>3.2</td>\n",
       "      <td>4.5</td>\n",
       "      <td>1.5</td>\n",
       "      <td>versicolor</td>\n",
       "    </tr>\n",
       "    <tr>\n",
       "      <th>2</th>\n",
       "      <td>6.9</td>\n",
       "      <td>3.1</td>\n",
       "      <td>4.9</td>\n",
       "      <td>1.5</td>\n",
       "      <td>versicolor</td>\n",
       "    </tr>\n",
       "    <tr>\n",
       "      <th>3</th>\n",
       "      <td>5.5</td>\n",
       "      <td>2.3</td>\n",
       "      <td>4.0</td>\n",
       "      <td>1.3</td>\n",
       "      <td>versicolor</td>\n",
       "    </tr>\n",
       "    <tr>\n",
       "      <th>4</th>\n",
       "      <td>6.5</td>\n",
       "      <td>2.8</td>\n",
       "      <td>4.6</td>\n",
       "      <td>1.5</td>\n",
       "      <td>versicolor</td>\n",
       "    </tr>\n",
       "  </tbody>\n",
       "</table>\n",
       "</div>"
      ],
      "text/plain": [
       "   sepal length (cm)  sepal width (cm)  petal length (cm)  petal width (cm)  \\\n",
       "0                7.0               3.2                4.7               1.4   \n",
       "1                6.4               3.2                4.5               1.5   \n",
       "2                6.9               3.1                4.9               1.5   \n",
       "3                5.5               2.3                4.0               1.3   \n",
       "4                6.5               2.8                4.6               1.5   \n",
       "\n",
       "      especie  \n",
       "0  versicolor  \n",
       "1  versicolor  \n",
       "2  versicolor  \n",
       "3  versicolor  \n",
       "4  versicolor  "
      ]
     },
     "execution_count": 3,
     "metadata": {},
     "output_type": "execute_result"
    }
   ],
   "source": [
    "df = pd.read_csv('iris_2class.csv')\n",
    "df.head()"
   ]
  },
  {
   "cell_type": "markdown",
   "id": "523cf202-89e2-448b-be70-535e0ec49070",
   "metadata": {},
   "source": [
    "Após o carregamento dos dados é utilizado o comando de descrição para verificar o desvio padrão de todas as caracteristicas"
   ]
  },
  {
   "cell_type": "code",
   "execution_count": 4,
   "id": "c024ef4a-ac96-4730-a0b0-a18a0c89973d",
   "metadata": {},
   "outputs": [
    {
     "data": {
      "text/html": [
       "<div>\n",
       "<style scoped>\n",
       "    .dataframe tbody tr th:only-of-type {\n",
       "        vertical-align: middle;\n",
       "    }\n",
       "\n",
       "    .dataframe tbody tr th {\n",
       "        vertical-align: top;\n",
       "    }\n",
       "\n",
       "    .dataframe thead tr th {\n",
       "        text-align: left;\n",
       "    }\n",
       "\n",
       "    .dataframe thead tr:last-of-type th {\n",
       "        text-align: right;\n",
       "    }\n",
       "</style>\n",
       "<table border=\"1\" class=\"dataframe\">\n",
       "  <thead>\n",
       "    <tr>\n",
       "      <th></th>\n",
       "      <th colspan=\"8\" halign=\"left\">sepal length (cm)</th>\n",
       "      <th colspan=\"8\" halign=\"left\">sepal width (cm)</th>\n",
       "      <th colspan=\"8\" halign=\"left\">petal length (cm)</th>\n",
       "      <th colspan=\"8\" halign=\"left\">petal width (cm)</th>\n",
       "    </tr>\n",
       "    <tr>\n",
       "      <th></th>\n",
       "      <th>count</th>\n",
       "      <th>mean</th>\n",
       "      <th>std</th>\n",
       "      <th>min</th>\n",
       "      <th>25%</th>\n",
       "      <th>50%</th>\n",
       "      <th>75%</th>\n",
       "      <th>max</th>\n",
       "      <th>count</th>\n",
       "      <th>mean</th>\n",
       "      <th>std</th>\n",
       "      <th>min</th>\n",
       "      <th>25%</th>\n",
       "      <th>50%</th>\n",
       "      <th>75%</th>\n",
       "      <th>max</th>\n",
       "      <th>count</th>\n",
       "      <th>mean</th>\n",
       "      <th>std</th>\n",
       "      <th>min</th>\n",
       "      <th>25%</th>\n",
       "      <th>50%</th>\n",
       "      <th>75%</th>\n",
       "      <th>max</th>\n",
       "      <th>count</th>\n",
       "      <th>mean</th>\n",
       "      <th>std</th>\n",
       "      <th>min</th>\n",
       "      <th>25%</th>\n",
       "      <th>50%</th>\n",
       "      <th>75%</th>\n",
       "      <th>max</th>\n",
       "    </tr>\n",
       "    <tr>\n",
       "      <th>especie</th>\n",
       "      <th></th>\n",
       "      <th></th>\n",
       "      <th></th>\n",
       "      <th></th>\n",
       "      <th></th>\n",
       "      <th></th>\n",
       "      <th></th>\n",
       "      <th></th>\n",
       "      <th></th>\n",
       "      <th></th>\n",
       "      <th></th>\n",
       "      <th></th>\n",
       "      <th></th>\n",
       "      <th></th>\n",
       "      <th></th>\n",
       "      <th></th>\n",
       "      <th></th>\n",
       "      <th></th>\n",
       "      <th></th>\n",
       "      <th></th>\n",
       "      <th></th>\n",
       "      <th></th>\n",
       "      <th></th>\n",
       "      <th></th>\n",
       "      <th></th>\n",
       "      <th></th>\n",
       "      <th></th>\n",
       "      <th></th>\n",
       "      <th></th>\n",
       "      <th></th>\n",
       "      <th></th>\n",
       "      <th></th>\n",
       "    </tr>\n",
       "  </thead>\n",
       "  <tbody>\n",
       "    <tr>\n",
       "      <th>versicolor</th>\n",
       "      <td>50.0</td>\n",
       "      <td>5.936</td>\n",
       "      <td>0.516171</td>\n",
       "      <td>4.9</td>\n",
       "      <td>5.600</td>\n",
       "      <td>5.9</td>\n",
       "      <td>6.3</td>\n",
       "      <td>7.0</td>\n",
       "      <td>50.0</td>\n",
       "      <td>2.770</td>\n",
       "      <td>0.313798</td>\n",
       "      <td>2.0</td>\n",
       "      <td>2.525</td>\n",
       "      <td>2.8</td>\n",
       "      <td>3.000</td>\n",
       "      <td>3.4</td>\n",
       "      <td>50.0</td>\n",
       "      <td>4.260</td>\n",
       "      <td>0.469911</td>\n",
       "      <td>3.0</td>\n",
       "      <td>4.0</td>\n",
       "      <td>4.35</td>\n",
       "      <td>4.600</td>\n",
       "      <td>5.1</td>\n",
       "      <td>50.0</td>\n",
       "      <td>1.326</td>\n",
       "      <td>0.197753</td>\n",
       "      <td>1.0</td>\n",
       "      <td>1.2</td>\n",
       "      <td>1.3</td>\n",
       "      <td>1.5</td>\n",
       "      <td>1.8</td>\n",
       "    </tr>\n",
       "    <tr>\n",
       "      <th>virginica</th>\n",
       "      <td>50.0</td>\n",
       "      <td>6.588</td>\n",
       "      <td>0.635880</td>\n",
       "      <td>4.9</td>\n",
       "      <td>6.225</td>\n",
       "      <td>6.5</td>\n",
       "      <td>6.9</td>\n",
       "      <td>7.9</td>\n",
       "      <td>50.0</td>\n",
       "      <td>2.974</td>\n",
       "      <td>0.322497</td>\n",
       "      <td>2.2</td>\n",
       "      <td>2.800</td>\n",
       "      <td>3.0</td>\n",
       "      <td>3.175</td>\n",
       "      <td>3.8</td>\n",
       "      <td>50.0</td>\n",
       "      <td>5.552</td>\n",
       "      <td>0.551895</td>\n",
       "      <td>4.5</td>\n",
       "      <td>5.1</td>\n",
       "      <td>5.55</td>\n",
       "      <td>5.875</td>\n",
       "      <td>6.9</td>\n",
       "      <td>50.0</td>\n",
       "      <td>2.026</td>\n",
       "      <td>0.274650</td>\n",
       "      <td>1.4</td>\n",
       "      <td>1.8</td>\n",
       "      <td>2.0</td>\n",
       "      <td>2.3</td>\n",
       "      <td>2.5</td>\n",
       "    </tr>\n",
       "  </tbody>\n",
       "</table>\n",
       "</div>"
      ],
      "text/plain": [
       "           sepal length (cm)                                              \\\n",
       "                       count   mean       std  min    25%  50%  75%  max   \n",
       "especie                                                                    \n",
       "versicolor              50.0  5.936  0.516171  4.9  5.600  5.9  6.3  7.0   \n",
       "virginica               50.0  6.588  0.635880  4.9  6.225  6.5  6.9  7.9   \n",
       "\n",
       "           sepal width (cm)                                                \\\n",
       "                      count   mean       std  min    25%  50%    75%  max   \n",
       "especie                                                                     \n",
       "versicolor             50.0  2.770  0.313798  2.0  2.525  2.8  3.000  3.4   \n",
       "virginica              50.0  2.974  0.322497  2.2  2.800  3.0  3.175  3.8   \n",
       "\n",
       "           petal length (cm)                                               \\\n",
       "                       count   mean       std  min  25%   50%    75%  max   \n",
       "especie                                                                     \n",
       "versicolor              50.0  4.260  0.469911  3.0  4.0  4.35  4.600  5.1   \n",
       "virginica               50.0  5.552  0.551895  4.5  5.1  5.55  5.875  6.9   \n",
       "\n",
       "           petal width (cm)                                            \n",
       "                      count   mean       std  min  25%  50%  75%  max  \n",
       "especie                                                                \n",
       "versicolor             50.0  1.326  0.197753  1.0  1.2  1.3  1.5  1.8  \n",
       "virginica              50.0  2.026  0.274650  1.4  1.8  2.0  2.3  2.5  "
      ]
     },
     "execution_count": 4,
     "metadata": {},
     "output_type": "execute_result"
    }
   ],
   "source": [
    "pd.set_option(\"display.max_columns\", None)\n",
    "df.groupby('especie').describe()"
   ]
  },
  {
   "cell_type": "markdown",
   "id": "dae81723-99ed-4db2-bc0c-badc4197c44d",
   "metadata": {},
   "source": [
    "Com apenas a leitura da tabela é dificil visualizar como os dados estão distribuídos dentro de uma característica, por isso utilizaremos o histograma que permite melhor visualização:"
   ]
  },
  {
   "cell_type": "code",
   "execution_count": 5,
   "id": "1667c450-3c41-471f-aef7-be04033938c6",
   "metadata": {},
   "outputs": [
    {
     "data": {
      "image/png": "[encoded data removed]",
      "text/plain": [
       "<Figure size 864x288 with 4 Axes>"
      ]
     },
     "metadata": {
      "needs_background": "light"
     },
     "output_type": "display_data"
    }
   ],
   "source": [
    "fig, axes = plt.subplots(nrows=2, ncols=2, figsize=(12,4))\n",
    "sns.histplot(data=df, bins=10, x='sepal length (cm)', hue='especie', multiple='dodge', shrink=0.8, ax=axes[0,0])\n",
    "sns.histplot(data=df, bins=10, x='sepal width (cm)', hue='especie', multiple='dodge', shrink=0.8, ax=axes[0,1])\n",
    "sns.histplot(data=df, bins=10, x='petal length (cm)', hue='especie', multiple='dodge', shrink=0.8, ax=axes[1,0])\n",
    "sns.histplot(data=df, bins=10, x='petal width (cm)', hue='especie', multiple='dodge', shrink=0.8, ax=axes[1,1])\n",
    "plt.show()"
   ]
  },
  {
   "cell_type": "markdown",
   "id": "75d7af08-4c5a-456d-9a5f-b228b9298029",
   "metadata": {},
   "source": [
    "Agora que descobrimos que os valores mais espaçados são altura da pétala e largura da pétala podemos utilizá-lo no scatterplot para visualizar melhor os dados"
   ]
  },
  {
   "cell_type": "code",
   "execution_count": 6,
   "id": "4c5bf7f8",
   "metadata": {},
   "outputs": [
    {
     "data": {
      "text/plain": [
       "<function matplotlib.pyplot.show(close=None, block=None)>"
      ]
     },
     "execution_count": 6,
     "metadata": {},
     "output_type": "execute_result"
    },
    {
     "data": {
      "image/png": "[encoded data removed]",
      "text/plain": [
       "<Figure size 432x288 with 1 Axes>"
      ]
     },
     "metadata": {
      "needs_background": "light"
     },
     "output_type": "display_data"
    }
   ],
   "source": [
    "sns.scatterplot(data=df, x='petal width (cm)', y='petal length (cm)', hue='especie')\n",
    "plt.show"
   ]
  },
  {
   "cell_type": "markdown",
   "id": "1fac0fd9-f0ee-4169-a1f4-3ffa13c81fcd",
   "metadata": {},
   "source": [
    "Agora que visualizamos, é possível perceber que um bom limiar para a separação dos dados se encontra na largura da pétula: 1.7"
   ]
  },
  {
   "cell_type": "code",
   "execution_count": 7,
   "id": "b30d6cc3-d868-42e4-abf6-3aa0243d2b76",
   "metadata": {},
   "outputs": [
    {
     "data": {
      "text/plain": [
       "<function matplotlib.pyplot.show(close=None, block=None)>"
      ]
     },
     "execution_count": 7,
     "metadata": {},
     "output_type": "execute_result"
    },
    {
     "data": {
      "image/png": "[encoded data removed]",
      "text/plain": [
       "<Figure size 432x288 with 1 Axes>"
      ]
     },
     "metadata": {
      "needs_background": "light"
     },
     "output_type": "display_data"
    }
   ],
   "source": [
    "sns.scatterplot(data=df, x='petal width (cm)', y='petal length (cm)', hue='especie')\n",
    "plt.axvline(1.7, color='red', label='Limiar')\n",
    "plt.legend()\n",
    "plt.show"
   ]
  },
  {
   "cell_type": "markdown",
   "id": "eb2cc15c-f31d-4160-9559-3a5dbce379be",
   "metadata": {},
   "source": [
    "# Classificador Limiar"
   ]
  },
  {
   "cell_type": "code",
   "execution_count": 8,
   "id": "ca15af9e-8ff8-4e2f-bde5-899b82e40307",
   "metadata": {},
   "outputs": [],
   "source": [
    "def classificador_limiar(limiar, dados, rotulos=('versicolor', 'virginica')):\n",
    "    resposta = []   \n",
    "    for idx, dado in dados.iterrows():\n",
    "        if dado[0] <= limiar:\n",
    "            resposta.append(rotulos[0])\n",
    "        else:\n",
    "            resposta.append(rotulos[1])\n",
    "    return pd.DataFrame(resposta, columns=['especie'])\n"
   ]
  },
  {
   "cell_type": "code",
   "execution_count": 9,
   "id": "b7dae3d7-9795-40ab-b5ed-2e4d71271905",
   "metadata": {},
   "outputs": [
    {
     "data": {
      "text/html": [
       "<div>\n",
       "<style scoped>\n",
       "    .dataframe tbody tr th:only-of-type {\n",
       "        vertical-align: middle;\n",
       "    }\n",
       "\n",
       "    .dataframe tbody tr th {\n",
       "        vertical-align: top;\n",
       "    }\n",
       "\n",
       "    .dataframe thead th {\n",
       "        text-align: right;\n",
       "    }\n",
       "</style>\n",
       "<table border=\"1\" class=\"dataframe\">\n",
       "  <thead>\n",
       "    <tr style=\"text-align: right;\">\n",
       "      <th></th>\n",
       "      <th>petal length (cm)</th>\n",
       "      <th>petal width (cm)</th>\n",
       "    </tr>\n",
       "  </thead>\n",
       "  <tbody>\n",
       "    <tr>\n",
       "      <th>0</th>\n",
       "      <td>4.7</td>\n",
       "      <td>1.4</td>\n",
       "    </tr>\n",
       "    <tr>\n",
       "      <th>1</th>\n",
       "      <td>4.5</td>\n",
       "      <td>1.5</td>\n",
       "    </tr>\n",
       "    <tr>\n",
       "      <th>2</th>\n",
       "      <td>4.9</td>\n",
       "      <td>1.5</td>\n",
       "    </tr>\n",
       "    <tr>\n",
       "      <th>3</th>\n",
       "      <td>4.0</td>\n",
       "      <td>1.3</td>\n",
       "    </tr>\n",
       "    <tr>\n",
       "      <th>4</th>\n",
       "      <td>4.6</td>\n",
       "      <td>1.5</td>\n",
       "    </tr>\n",
       "    <tr>\n",
       "      <th>...</th>\n",
       "      <td>...</td>\n",
       "      <td>...</td>\n",
       "    </tr>\n",
       "    <tr>\n",
       "      <th>95</th>\n",
       "      <td>5.2</td>\n",
       "      <td>2.3</td>\n",
       "    </tr>\n",
       "    <tr>\n",
       "      <th>96</th>\n",
       "      <td>5.0</td>\n",
       "      <td>1.9</td>\n",
       "    </tr>\n",
       "    <tr>\n",
       "      <th>97</th>\n",
       "      <td>5.2</td>\n",
       "      <td>2.0</td>\n",
       "    </tr>\n",
       "    <tr>\n",
       "      <th>98</th>\n",
       "      <td>5.4</td>\n",
       "      <td>2.3</td>\n",
       "    </tr>\n",
       "    <tr>\n",
       "      <th>99</th>\n",
       "      <td>5.1</td>\n",
       "      <td>1.8</td>\n",
       "    </tr>\n",
       "  </tbody>\n",
       "</table>\n",
       "<p>100 rows × 2 columns</p>\n",
       "</div>"
      ],
      "text/plain": [
       "    petal length (cm)  petal width (cm)\n",
       "0                 4.7               1.4\n",
       "1                 4.5               1.5\n",
       "2                 4.9               1.5\n",
       "3                 4.0               1.3\n",
       "4                 4.6               1.5\n",
       "..                ...               ...\n",
       "95                5.2               2.3\n",
       "96                5.0               1.9\n",
       "97                5.2               2.0\n",
       "98                5.4               2.3\n",
       "99                5.1               1.8\n",
       "\n",
       "[100 rows x 2 columns]"
      ]
     },
     "execution_count": 9,
     "metadata": {},
     "output_type": "execute_result"
    }
   ],
   "source": [
    "df[['petal length (cm)', 'petal width (cm)']]"
   ]
  },
  {
   "cell_type": "code",
   "execution_count": 10,
   "id": "c6fa7703-357f-4af8-ac56-653949ae19e0",
   "metadata": {},
   "outputs": [
    {
     "name": "stdout",
     "output_type": "stream",
     "text": [
      "versicolor, versicolor, versicolor, versicolor, versicolor, versicolor, versicolor, versicolor, versicolor, versicolor, versicolor, versicolor, versicolor, versicolor, versicolor, versicolor, versicolor, versicolor, versicolor, versicolor, virginica, versicolor, versicolor, versicolor, versicolor, versicolor, versicolor, virginica, versicolor, versicolor, versicolor, versicolor, versicolor, versicolor, versicolor, versicolor, versicolor, versicolor, versicolor, versicolor, versicolor, versicolor, versicolor, versicolor, versicolor, versicolor, versicolor, versicolor, versicolor, versicolor, virginica, virginica, virginica, virginica, virginica, virginica, virginica, virginica, virginica, virginica, virginica, virginica, virginica, virginica, virginica, virginica, virginica, virginica, virginica, versicolor, virginica, virginica, virginica, virginica, virginica, virginica, virginica, virginica, virginica, versicolor, virginica, virginica, virginica, versicolor, versicolor, virginica, virginica, virginica, virginica, virginica, virginica, virginica, virginica, virginica, virginica, virginica, virginica, virginica, virginica, virginica, "
     ]
    }
   ],
   "source": [
    "predicoes = classificador_limiar(1.6, df[['petal width (cm)']])\n",
    "for p in predicoes.values.flatten():\n",
    "    print(p, end=\", \")"
   ]
  },
  {
   "cell_type": "code",
   "execution_count": 11,
   "id": "35401fa6-33b6-4db5-8521-381137c84117",
   "metadata": {},
   "outputs": [
    {
     "name": "stdout",
     "output_type": "stream",
     "text": [
      "['versicolor' 'versicolor']\n",
      "['versicolor' 'versicolor']\n",
      "['versicolor' 'versicolor']\n",
      "['versicolor' 'versicolor']\n",
      "['versicolor' 'versicolor']\n",
      "['versicolor' 'versicolor']\n",
      "['versicolor' 'versicolor']\n",
      "['versicolor' 'versicolor']\n",
      "['versicolor' 'versicolor']\n",
      "['versicolor' 'versicolor']\n",
      "['versicolor' 'versicolor']\n",
      "['versicolor' 'versicolor']\n",
      "['versicolor' 'versicolor']\n",
      "['versicolor' 'versicolor']\n",
      "['versicolor' 'versicolor']\n",
      "['versicolor' 'versicolor']\n",
      "['versicolor' 'versicolor']\n",
      "['versicolor' 'versicolor']\n",
      "['versicolor' 'versicolor']\n",
      "['versicolor' 'versicolor']\n",
      "['versicolor' 'virginica']\n",
      "['versicolor' 'versicolor']\n",
      "['versicolor' 'versicolor']\n",
      "['versicolor' 'versicolor']\n",
      "['versicolor' 'versicolor']\n",
      "['versicolor' 'versicolor']\n",
      "['versicolor' 'versicolor']\n",
      "['versicolor' 'virginica']\n",
      "['versicolor' 'versicolor']\n",
      "['versicolor' 'versicolor']\n",
      "['versicolor' 'versicolor']\n",
      "['versicolor' 'versicolor']\n",
      "['versicolor' 'versicolor']\n",
      "['versicolor' 'versicolor']\n",
      "['versicolor' 'versicolor']\n",
      "['versicolor' 'versicolor']\n",
      "['versicolor' 'versicolor']\n",
      "['versicolor' 'versicolor']\n",
      "['versicolor' 'versicolor']\n",
      "['versicolor' 'versicolor']\n",
      "['versicolor' 'versicolor']\n",
      "['versicolor' 'versicolor']\n",
      "['versicolor' 'versicolor']\n",
      "['versicolor' 'versicolor']\n",
      "['versicolor' 'versicolor']\n",
      "['versicolor' 'versicolor']\n",
      "['versicolor' 'versicolor']\n",
      "['versicolor' 'versicolor']\n",
      "['versicolor' 'versicolor']\n",
      "['versicolor' 'versicolor']\n",
      "['virginica' 'virginica']\n",
      "['virginica' 'virginica']\n",
      "['virginica' 'virginica']\n",
      "['virginica' 'virginica']\n",
      "['virginica' 'virginica']\n",
      "['virginica' 'virginica']\n",
      "['virginica' 'virginica']\n",
      "['virginica' 'virginica']\n",
      "['virginica' 'virginica']\n",
      "['virginica' 'virginica']\n",
      "['virginica' 'virginica']\n",
      "['virginica' 'virginica']\n",
      "['virginica' 'virginica']\n",
      "['virginica' 'virginica']\n",
      "['virginica' 'virginica']\n",
      "['virginica' 'virginica']\n",
      "['virginica' 'virginica']\n",
      "['virginica' 'virginica']\n",
      "['virginica' 'virginica']\n",
      "['virginica' 'versicolor']\n",
      "['virginica' 'virginica']\n",
      "['virginica' 'virginica']\n",
      "['virginica' 'virginica']\n",
      "['virginica' 'virginica']\n",
      "['virginica' 'virginica']\n",
      "['virginica' 'virginica']\n",
      "['virginica' 'virginica']\n",
      "['virginica' 'virginica']\n",
      "['virginica' 'virginica']\n",
      "['virginica' 'versicolor']\n",
      "['virginica' 'virginica']\n",
      "['virginica' 'virginica']\n",
      "['virginica' 'virginica']\n",
      "['virginica' 'versicolor']\n",
      "['virginica' 'versicolor']\n",
      "['virginica' 'virginica']\n",
      "['virginica' 'virginica']\n",
      "['virginica' 'virginica']\n",
      "['virginica' 'virginica']\n",
      "['virginica' 'virginica']\n",
      "['virginica' 'virginica']\n",
      "['virginica' 'virginica']\n",
      "['virginica' 'virginica']\n",
      "['virginica' 'virginica']\n",
      "['virginica' 'virginica']\n",
      "['virginica' 'virginica']\n",
      "['virginica' 'virginica']\n",
      "['virginica' 'virginica']\n",
      "['virginica' 'virginica']\n",
      "['virginica' 'virginica']\n"
     ]
    }
   ],
   "source": [
    "predicoes = classificador_limiar(1.6, df[['petal width (cm)']])\n",
    "for i in np.vstack([df['especie'].values, predicoes['especie'].values]).T:\n",
    "    print(i)"
   ]
  },
  {
   "cell_type": "markdown",
   "id": "02ec3765",
   "metadata": {},
   "source": [
    "Através do classificador limiar e do gabarito pudemos perceber os erros e acertos com o limiar escolhido por nós, mas para escolhermos o melhor limiar é necessário fazer uma busca exaustiva passando por todos os limiares"
   ]
  },
  {
   "cell_type": "markdown",
   "id": "49731399-1a09-4db4-a7bd-291c22d46485",
   "metadata": {},
   "source": [
    "# Busca exaustiva"
   ]
  },
  {
   "cell_type": "code",
   "execution_count": 13,
   "id": "2a983cca",
   "metadata": {},
   "outputs": [],
   "source": [
    "from sklearn.metrics import accuracy_score\n",
    "from sklearn.model_selection import train_test_split"
   ]
  },
  {
   "cell_type": "markdown",
   "id": "89275c25",
   "metadata": {},
   "source": [
    "## Algoritmo da busca exaustiva"
   ]
  },
  {
   "cell_type": "code",
   "execution_count": 15,
   "id": "af6dcd0c",
   "metadata": {},
   "outputs": [],
   "source": [
    "def busca_exaustiva(limiar, data):\n",
    "    classificacao = []\n",
    "    for idx,d in data.iterrows():\n",
    "        if d[0] < limiar:\n",
    "            classificacao.append('versicolor')\n",
    "        else:\n",
    "            classificacao.append('virginica')\n",
    "    \n",
    "    return pd.DataFrame(classificacao, columns=['especie'])"
   ]
  },
  {
   "cell_type": "code",
   "execution_count": 16,
   "id": "c659974a-0e0d-4c27-bdeb-6ce092f25ff5",
   "metadata": {},
   "outputs": [
    {
     "name": "stdout",
     "output_type": "stream",
     "text": [
      "Melhor limiar: 1.608, Melhor Acurácia: 0.940\n"
     ]
    },
    {
     "data": {
      "image/png": "[encoded data removed]",
      "text/plain": [
       "<Figure size 576x288 with 1 Axes>"
      ]
     },
     "metadata": {
      "needs_background": "light"
     },
     "output_type": "display_data"
    }
   ],
   "source": [
    "n_limiares = 100\n",
    "limiares = np.linspace(1.0, 2.4, n_limiares)\n",
    "acuracias = []\n",
    "\n",
    "melhor_limiar = limiares[0]\n",
    "melhor_acuracia = 0\n",
    "\n",
    "dados = df[['petal width (cm)']]\n",
    "\n",
    "for limiar in limiares:\n",
    "    predicoes = busca_exaustiva(limiar, dados)\n",
    "    \n",
    "    acuracia = accuracy_score(df['especie'], predicoes['especie'])\n",
    "    acuracias.append(acuracia)\n",
    "    \n",
    "    if acuracia > melhor_acuracia:\n",
    "        melhor_acuracia = acuracia\n",
    "        melhor_limiar = limiar\n",
    "\n",
    "print(\"Melhor limiar: %.3f, Melhor Acurácia: %.3f\" % (melhor_limiar, melhor_acuracia))\n",
    "\n",
    "fig, axes = plt.subplots(figsize=(8,4))\n",
    "axes.plot(limiares, acuracias)\n",
    "axes.axvline(melhor_limiar, color='red')\n",
    "axes.set_xlabel('Limiar')\n",
    "axes.set_ylabel('Acurácia')\n",
    "plt.show()\n",
    "\n"
   ]
  },
  {
   "cell_type": "markdown",
   "id": "f55aaca2",
   "metadata": {},
   "source": [
    "Na imagem acima podemos observar as acurácias (eixo Y) de acordo com os limiares (eixo X), e que o melhor limiar neste caso é 1.608, porem, este limiar pode variar de acordo com os dados utilizados para treino e teste, por isso é criado diferentes conjuntos de treino e teste onde cada dado fará parte de um conjunto de forma aleatória. "
   ]
  },
  {
   "cell_type": "markdown",
   "id": "16e1d9f7",
   "metadata": {},
   "source": [
    "# Conjuntos de Treino e Teste"
   ]
  },
  {
   "cell_type": "markdown",
   "id": "130cea43-3c6f-43c5-a088-e1053e178cba",
   "metadata": {},
   "source": [
    "O conjunto de treino em teste serve para separação dos dados em dois conjuntos, de treino que normalmente passa 80% dos dados para treino de um limiar (entre outras coisas), e um conjunto de teste que testará o melhor limiar do treino.\n",
    "Vale lembrar que a criação de vários conjuntos de treino e teste com o embaralhamento dos dados permitirá verificar com mais precisão a taxa de acerto dos testes, já que diferentes dados passarão pelo treino, e diferentes dados serão testados."
   ]
  },
  {
   "cell_type": "code",
   "execution_count": 26,
   "id": "fc7ca6d4",
   "metadata": {},
   "outputs": [
    {
     "data": {
      "text/plain": [
       "<matplotlib.lines.Line2D at 0x7f732e60b3a0>"
      ]
     },
     "execution_count": 26,
     "metadata": {},
     "output_type": "execute_result"
    },
    {
     "data": {
      "image/png": "[encoded data removed]",
      "text/plain": [
       "<Figure size 432x288 with 1 Axes>"
      ]
     },
     "metadata": {
      "needs_background": "light"
     },
     "output_type": "display_data"
    }
   ],
   "source": [
    "import random\n",
    "\n",
    "seeds = [random.randint(10, 1000) for i in range(20)]\n",
    "acuracias_teste = []\n",
    "classificacoes = []\n",
    "melhor_acuracia_teste = 0\n",
    "\n",
    "for seed in seeds:\n",
    "    X_teste, X_treino, y_teste, y_treino = train_test_split(df[['petal width (cm)']], df['especie'], test_size=0.2, stratify=df['especie'].tolist(),shuffle=True, random_state=(seed*1000))\n",
    "    classificacao_teste = busca_exaustiva(melhor_limiar, X_teste)\n",
    "    classificacoes.append(classificacao_teste)\n",
    "    acuracia_teste = accuracy_score(y_teste, classificacao_teste)\n",
    "    acuracias_teste.append(acuracia_teste)\n",
    "\n",
    "np_acuracias_teste = np.append(acuracias_teste, [])\n",
    "\n",
    "X_teste, X_treino, y_teste, y_treino = train_test_split(df[['petal width (cm)', 'petal length (cm)']], df['especie'], test_size=0.2, stratify=df['especie'].tolist(), shuffle=True, random_state= seeds[np_acuracias_teste.argmax()]*1000)\n",
    "\n",
    "dt = X_teste\n",
    "dt['especie'] = y_teste\n",
    "\n",
    "sns.scatterplot(data= dt, x= 'petal width (cm)', y= 'petal length (cm)', hue= 'especie')\n",
    "plt.axvline(melhor_limiar, color='red', label=\"Limiar\")\n"
   ]
  },
  {
   "cell_type": "code",
   "execution_count": 29,
   "id": "ff340bb4",
   "metadata": {},
   "outputs": [
    {
     "name": "stdout",
     "output_type": "stream",
     "text": [
      "Maior acurácia: 0.97, Menor acurácia: 0.93, Acurácia média: 0.94+-0.01, Melhor Limiar: 1.61\n"
     ]
    }
   ],
   "source": [
    "print(\"Maior acurácia: %.2f, Menor acurácia: %.2f, Acurácia média: %.2f+-%.2f, Melhor Limiar: %.2f\" % (np_acuracias_teste.max(), np_acuracias_teste.min(),np.mean(acuracias_teste), np_acuracias_teste.std(), melhor_limiar))"
   ]
  },
  {
   "cell_type": "markdown",
   "id": "c20d5f25",
   "metadata": {},
   "source": [
    "Com os dados da busca exaustiva de todos os conjuntos, é possível observar que o melhor limiar entre todos os conjuntos é próximo do limiar escolhido anteriormente (seção do classificador Limiar) com uma diferença de 0.002, porém, há dados que isso pode não ocorrer, mostrando a importância dos conjuntos de treino e teste com busca exaustiva."
   ]
  },
  {
   "cell_type": "code",
   "execution_count": null,
   "id": "ef616fd3",
   "metadata": {},
   "outputs": [],
   "source": []
  }
 ],
 "metadata": {
  "kernelspec": {
   "display_name": "Python 3 (ipykernel)",
   "language": "python",
   "name": "python3"
  },
  "language_info": {
   "codemirror_mode": {
    "name": "ipython",
    "version": 3
   },
   "file_extension": ".py",
   "mimetype": "text/x-python",
   "name": "python",
   "nbconvert_exporter": "python",
   "pygments_lexer": "ipython3",
   "version": "3.8.10"
  }
 },
 "nbformat": 4,
 "nbformat_minor": 5
}
